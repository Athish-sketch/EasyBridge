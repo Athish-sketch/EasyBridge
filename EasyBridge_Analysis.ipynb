{
 "cells": [
  {
   "cell_type": "markdown",
   "id": "83a05a86",
   "metadata": {},
   "source": [
    "# 📊 EasyBridge File Sharing Analytics\n",
    "\n",
    "This notebook analyzes offline file sharing logs (from `file_logs.csv`) using data science tools."
   ]
  },
  {
   "cell_type": "code",
   "execution_count": null,
   "id": "586b4f21",
   "metadata": {},
   "outputs": [],
   "source": [
    "import pandas as pd\n",
    "import matplotlib.pyplot as plt\n",
    "import seaborn as sns\n",
    "\n",
    "# Set styles for plots\n",
    "sns.set(style='darkgrid')"
   ]
  },
  {
   "cell_type": "code",
   "execution_count": null,
   "id": "b8c01e23",
   "metadata": {},
   "outputs": [],
   "source": [
    "df = pd.read_csv('datasets/file_logs.csv')\n",
    "df.head()"
   ]
  },
  {
   "cell_type": "code",
   "execution_count": null,
   "id": "ec4358f8",
   "metadata": {},
   "outputs": [],
   "source": [
    "df.describe(include='all')"
   ]
  },
  {
   "cell_type": "code",
   "execution_count": null,
   "id": "ceeef23f",
   "metadata": {},
   "outputs": [],
   "source": [
    "# Example: Visualizing file sizes if a 'file_size' column exists\n",
    "if 'file_size' in df.columns:\n",
    "    plt.figure(figsize=(8,5))\n",
    "    sns.histplot(df['file_size'], bins=30, kde=True)\n",
    "    plt.title('File Size Distribution')\n",
    "    plt.xlabel('File Size (MB)')\n",
    "    plt.ylabel('Frequency')\n",
    "    plt.show()\n",
    "else:\n",
    "    print('No \"file_size\" column found.')"
   ]
  },
  {
   "cell_type": "code",
   "execution_count": null,
   "id": "27710fc3",
   "metadata": {},
   "outputs": [],
   "source": [
    "# Example: Count of files shared by each user\n",
    "if 'sender' in df.columns:\n",
    "    plt.figure(figsize=(10,6))\n",
    "    df['sender'].value_counts().plot(kind='bar')\n",
    "    plt.title('Files Shared by User')\n",
    "    plt.xlabel('Sender')\n",
    "    plt.ylabel('Number of Files Shared')\n",
    "    plt.xticks(rotation=45)\n",
    "    plt.tight_layout()\n",
    "    plt.show()\n",
    "else:\n",
    "    print('No \"sender\" column found.')"
   ]
  }
 ],
 "metadata": {},
 "nbformat": 4,
 "nbformat_minor": 5
}
